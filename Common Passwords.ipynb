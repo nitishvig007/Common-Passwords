{
 "cells": [
  {
   "cell_type": "markdown",
   "metadata": {},
   "source": [
    "# Common Passwords"
   ]
  },
  {
   "cell_type": "markdown",
   "metadata": {},
   "source": [
    "## About Dataset\n",
    "\n",
    "### 10000 Most Common Passwords\n",
    "\n",
    "If your password is on this list of 10,000 most common passwords, you need a new password. A hacker can use or generate files like this, which may readily be compiled from breaches of sites such as Ashley Madison. Usually, passwords are not tried one-by-one against a system's secure server online; instead, a hacker might manage to gain access to a shadowed password file protected by a one-way encryption algorithm, then test each entry in a file like this to see whether it encrypted form matches what the server has on record. The passwords may then be tried against any account online that can be linked to the first, to test for passwords reused on other sites.\n",
    "\n",
    "### Acknowledgements\n",
    "The dataset was procured by SecLists. SecLists is the security tester's companion. It's a collection of multiple types of lists used during security assessments, collected in one place. List types include usernames, passwords, URLs, sensitive data patterns, fuzzing payloads, web shells, and many more. The goal is to enable a security tester to pull this repository onto a new testing box and have access to every type of list that may be needed.\n",
    "\n"
   ]
  },
  {
   "cell_type": "markdown",
   "metadata": {},
   "source": [
    "What makes a password secure?\n",
    "<br>\n",
    "According to https://www.gvec.net/five-tips-for-creating-a-strong-password/, there are 3 main factors:\n",
    "<br>\n",
    "Password length\n",
    "<br>\n",
    "Using numbers and capital letters\n",
    "<br>\n",
    "Not using obvious words\n",
    "<br>\n"
   ]
  },
  {
   "cell_type": "code",
   "execution_count": null,
   "metadata": {},
   "outputs": [],
   "source": []
  },
  {
   "cell_type": "code",
   "execution_count": 45,
   "metadata": {},
   "outputs": [],
   "source": [
    "import pandas as pd\n",
    "import numpy as np\n",
    "import matplotlib.pyplot as plt\n",
    "import seaborn as sns"
   ]
  },
  {
   "cell_type": "code",
   "execution_count": 46,
   "metadata": {},
   "outputs": [],
   "source": [
    "df  = pd.read_csv(\"common_passwords.csv\")"
   ]
  },
  {
   "cell_type": "code",
   "execution_count": 47,
   "metadata": {},
   "outputs": [
    {
     "data": {
      "text/html": [
       "<div>\n",
       "<style scoped>\n",
       "    .dataframe tbody tr th:only-of-type {\n",
       "        vertical-align: middle;\n",
       "    }\n",
       "\n",
       "    .dataframe tbody tr th {\n",
       "        vertical-align: top;\n",
       "    }\n",
       "\n",
       "    .dataframe thead th {\n",
       "        text-align: right;\n",
       "    }\n",
       "</style>\n",
       "<table border=\"1\" class=\"dataframe\">\n",
       "  <thead>\n",
       "    <tr style=\"text-align: right;\">\n",
       "      <th></th>\n",
       "      <th>password</th>\n",
       "      <th>length</th>\n",
       "      <th>num_chars</th>\n",
       "      <th>num_digits</th>\n",
       "      <th>num_upper</th>\n",
       "      <th>num_lower</th>\n",
       "      <th>num_special</th>\n",
       "      <th>num_vowels</th>\n",
       "      <th>num_syllables</th>\n",
       "    </tr>\n",
       "  </thead>\n",
       "  <tbody>\n",
       "    <tr>\n",
       "      <th>0</th>\n",
       "      <td>123456</td>\n",
       "      <td>6</td>\n",
       "      <td>0</td>\n",
       "      <td>6</td>\n",
       "      <td>0</td>\n",
       "      <td>0</td>\n",
       "      <td>0</td>\n",
       "      <td>0</td>\n",
       "      <td>1</td>\n",
       "    </tr>\n",
       "    <tr>\n",
       "      <th>1</th>\n",
       "      <td>password</td>\n",
       "      <td>8</td>\n",
       "      <td>8</td>\n",
       "      <td>0</td>\n",
       "      <td>0</td>\n",
       "      <td>8</td>\n",
       "      <td>0</td>\n",
       "      <td>2</td>\n",
       "      <td>2</td>\n",
       "    </tr>\n",
       "    <tr>\n",
       "      <th>2</th>\n",
       "      <td>12345678</td>\n",
       "      <td>8</td>\n",
       "      <td>0</td>\n",
       "      <td>8</td>\n",
       "      <td>0</td>\n",
       "      <td>0</td>\n",
       "      <td>0</td>\n",
       "      <td>0</td>\n",
       "      <td>1</td>\n",
       "    </tr>\n",
       "    <tr>\n",
       "      <th>3</th>\n",
       "      <td>qwerty</td>\n",
       "      <td>6</td>\n",
       "      <td>6</td>\n",
       "      <td>0</td>\n",
       "      <td>0</td>\n",
       "      <td>6</td>\n",
       "      <td>0</td>\n",
       "      <td>1</td>\n",
       "      <td>3</td>\n",
       "    </tr>\n",
       "    <tr>\n",
       "      <th>4</th>\n",
       "      <td>123456789</td>\n",
       "      <td>9</td>\n",
       "      <td>0</td>\n",
       "      <td>9</td>\n",
       "      <td>0</td>\n",
       "      <td>0</td>\n",
       "      <td>0</td>\n",
       "      <td>0</td>\n",
       "      <td>1</td>\n",
       "    </tr>\n",
       "  </tbody>\n",
       "</table>\n",
       "</div>"
      ],
      "text/plain": [
       "    password  length  num_chars  num_digits  num_upper  num_lower  \\\n",
       "0     123456       6          0           6          0          0   \n",
       "1   password       8          8           0          0          8   \n",
       "2   12345678       8          0           8          0          0   \n",
       "3     qwerty       6          6           0          0          6   \n",
       "4  123456789       9          0           9          0          0   \n",
       "\n",
       "   num_special  num_vowels  num_syllables  \n",
       "0            0           0              1  \n",
       "1            0           2              2  \n",
       "2            0           0              1  \n",
       "3            0           1              3  \n",
       "4            0           0              1  "
      ]
     },
     "execution_count": 47,
     "metadata": {},
     "output_type": "execute_result"
    }
   ],
   "source": [
    "df.head()"
   ]
  },
  {
   "cell_type": "code",
   "execution_count": 48,
   "metadata": {},
   "outputs": [
    {
     "name": "stdout",
     "output_type": "stream",
     "text": [
      "<class 'pandas.core.frame.DataFrame'>\n",
      "RangeIndex: 10000 entries, 0 to 9999\n",
      "Data columns (total 9 columns):\n",
      " #   Column         Non-Null Count  Dtype \n",
      "---  ------         --------------  ----- \n",
      " 0   password       10000 non-null  object\n",
      " 1   length         10000 non-null  int64 \n",
      " 2   num_chars      10000 non-null  int64 \n",
      " 3   num_digits     10000 non-null  int64 \n",
      " 4   num_upper      10000 non-null  int64 \n",
      " 5   num_lower      10000 non-null  int64 \n",
      " 6   num_special    10000 non-null  int64 \n",
      " 7   num_vowels     10000 non-null  int64 \n",
      " 8   num_syllables  10000 non-null  int64 \n",
      "dtypes: int64(8), object(1)\n",
      "memory usage: 703.2+ KB\n"
     ]
    }
   ],
   "source": [
    "df.info()"
   ]
  },
  {
   "cell_type": "code",
   "execution_count": null,
   "metadata": {},
   "outputs": [],
   "source": []
  },
  {
   "cell_type": "code",
   "execution_count": 49,
   "metadata": {},
   "outputs": [
    {
     "data": {
      "text/plain": [
       "2"
      ]
     },
     "execution_count": 49,
     "metadata": {},
     "output_type": "execute_result"
    }
   ],
   "source": [
    "df.duplicated().sum()"
   ]
  },
  {
   "cell_type": "markdown",
   "metadata": {},
   "source": [
    "There are 2 duplicate passwords"
   ]
  },
  {
   "cell_type": "code",
   "execution_count": 50,
   "metadata": {},
   "outputs": [
    {
     "data": {
      "text/html": [
       "<div>\n",
       "<style scoped>\n",
       "    .dataframe tbody tr th:only-of-type {\n",
       "        vertical-align: middle;\n",
       "    }\n",
       "\n",
       "    .dataframe tbody tr th {\n",
       "        vertical-align: top;\n",
       "    }\n",
       "\n",
       "    .dataframe thead th {\n",
       "        text-align: right;\n",
       "    }\n",
       "</style>\n",
       "<table border=\"1\" class=\"dataframe\">\n",
       "  <thead>\n",
       "    <tr style=\"text-align: right;\">\n",
       "      <th></th>\n",
       "      <th>password</th>\n",
       "      <th>length</th>\n",
       "      <th>num_chars</th>\n",
       "      <th>num_digits</th>\n",
       "      <th>num_upper</th>\n",
       "      <th>num_lower</th>\n",
       "      <th>num_special</th>\n",
       "      <th>num_vowels</th>\n",
       "      <th>num_syllables</th>\n",
       "    </tr>\n",
       "  </thead>\n",
       "  <tbody>\n",
       "    <tr>\n",
       "      <th>484</th>\n",
       "      <td>abcdef</td>\n",
       "      <td>6</td>\n",
       "      <td>6</td>\n",
       "      <td>0</td>\n",
       "      <td>0</td>\n",
       "      <td>6</td>\n",
       "      <td>0</td>\n",
       "      <td>2</td>\n",
       "      <td>1</td>\n",
       "    </tr>\n",
       "    <tr>\n",
       "      <th>3507</th>\n",
       "      <td>easy</td>\n",
       "      <td>4</td>\n",
       "      <td>4</td>\n",
       "      <td>0</td>\n",
       "      <td>0</td>\n",
       "      <td>4</td>\n",
       "      <td>0</td>\n",
       "      <td>2</td>\n",
       "      <td>1</td>\n",
       "    </tr>\n",
       "  </tbody>\n",
       "</table>\n",
       "</div>"
      ],
      "text/plain": [
       "     password  length  num_chars  num_digits  num_upper  num_lower  \\\n",
       "484    abcdef       6          6           0          0          6   \n",
       "3507     easy       4          4           0          0          4   \n",
       "\n",
       "      num_special  num_vowels  num_syllables  \n",
       "484             0           2              1  \n",
       "3507            0           2              1  "
      ]
     },
     "execution_count": 50,
     "metadata": {},
     "output_type": "execute_result"
    }
   ],
   "source": [
    "df[df.duplicated()]"
   ]
  },
  {
   "cell_type": "markdown",
   "metadata": {},
   "source": [
    "Below, we see that there were only 2 passwords that were repeated more than once:  \n",
    "    - \"easy\"  \n",
    "    - \"abcdef\"  \n"
   ]
  },
  {
   "cell_type": "code",
   "execution_count": null,
   "metadata": {},
   "outputs": [],
   "source": []
  },
  {
   "cell_type": "code",
   "execution_count": 51,
   "metadata": {},
   "outputs": [
    {
     "data": {
      "text/html": [
       "<div>\n",
       "<style scoped>\n",
       "    .dataframe tbody tr th:only-of-type {\n",
       "        vertical-align: middle;\n",
       "    }\n",
       "\n",
       "    .dataframe tbody tr th {\n",
       "        vertical-align: top;\n",
       "    }\n",
       "\n",
       "    .dataframe thead th {\n",
       "        text-align: right;\n",
       "    }\n",
       "</style>\n",
       "<table border=\"1\" class=\"dataframe\">\n",
       "  <thead>\n",
       "    <tr style=\"text-align: right;\">\n",
       "      <th></th>\n",
       "      <th>length</th>\n",
       "      <th>num_chars</th>\n",
       "      <th>num_digits</th>\n",
       "      <th>num_upper</th>\n",
       "      <th>num_lower</th>\n",
       "      <th>num_special</th>\n",
       "      <th>num_vowels</th>\n",
       "      <th>num_syllables</th>\n",
       "    </tr>\n",
       "  </thead>\n",
       "  <tbody>\n",
       "    <tr>\n",
       "      <th>count</th>\n",
       "      <td>10000.000000</td>\n",
       "      <td>10000.000000</td>\n",
       "      <td>10000.000000</td>\n",
       "      <td>10000.000000</td>\n",
       "      <td>10000.000000</td>\n",
       "      <td>10000.000000</td>\n",
       "      <td>10000.000000</td>\n",
       "      <td>10000.000000</td>\n",
       "    </tr>\n",
       "    <tr>\n",
       "      <th>mean</th>\n",
       "      <td>6.651300</td>\n",
       "      <td>5.030300</td>\n",
       "      <td>1.617600</td>\n",
       "      <td>0.025300</td>\n",
       "      <td>5.005000</td>\n",
       "      <td>0.003400</td>\n",
       "      <td>1.805900</td>\n",
       "      <td>1.606600</td>\n",
       "    </tr>\n",
       "    <tr>\n",
       "      <th>std</th>\n",
       "      <td>1.370947</td>\n",
       "      <td>2.804098</td>\n",
       "      <td>2.971911</td>\n",
       "      <td>0.322909</td>\n",
       "      <td>2.809727</td>\n",
       "      <td>0.119958</td>\n",
       "      <td>1.242409</td>\n",
       "      <td>0.681383</td>\n",
       "    </tr>\n",
       "    <tr>\n",
       "      <th>min</th>\n",
       "      <td>3.000000</td>\n",
       "      <td>0.000000</td>\n",
       "      <td>0.000000</td>\n",
       "      <td>0.000000</td>\n",
       "      <td>0.000000</td>\n",
       "      <td>0.000000</td>\n",
       "      <td>0.000000</td>\n",
       "      <td>0.000000</td>\n",
       "    </tr>\n",
       "    <tr>\n",
       "      <th>25%</th>\n",
       "      <td>6.000000</td>\n",
       "      <td>4.000000</td>\n",
       "      <td>0.000000</td>\n",
       "      <td>0.000000</td>\n",
       "      <td>4.000000</td>\n",
       "      <td>0.000000</td>\n",
       "      <td>1.000000</td>\n",
       "      <td>1.000000</td>\n",
       "    </tr>\n",
       "    <tr>\n",
       "      <th>50%</th>\n",
       "      <td>7.000000</td>\n",
       "      <td>6.000000</td>\n",
       "      <td>0.000000</td>\n",
       "      <td>0.000000</td>\n",
       "      <td>6.000000</td>\n",
       "      <td>0.000000</td>\n",
       "      <td>2.000000</td>\n",
       "      <td>2.000000</td>\n",
       "    </tr>\n",
       "    <tr>\n",
       "      <th>75%</th>\n",
       "      <td>8.000000</td>\n",
       "      <td>7.000000</td>\n",
       "      <td>1.000000</td>\n",
       "      <td>0.000000</td>\n",
       "      <td>7.000000</td>\n",
       "      <td>0.000000</td>\n",
       "      <td>3.000000</td>\n",
       "      <td>2.000000</td>\n",
       "    </tr>\n",
       "    <tr>\n",
       "      <th>max</th>\n",
       "      <td>16.000000</td>\n",
       "      <td>13.000000</td>\n",
       "      <td>12.000000</td>\n",
       "      <td>8.000000</td>\n",
       "      <td>13.000000</td>\n",
       "      <td>6.000000</td>\n",
       "      <td>10.000000</td>\n",
       "      <td>6.000000</td>\n",
       "    </tr>\n",
       "  </tbody>\n",
       "</table>\n",
       "</div>"
      ],
      "text/plain": [
       "             length     num_chars    num_digits     num_upper     num_lower  \\\n",
       "count  10000.000000  10000.000000  10000.000000  10000.000000  10000.000000   \n",
       "mean       6.651300      5.030300      1.617600      0.025300      5.005000   \n",
       "std        1.370947      2.804098      2.971911      0.322909      2.809727   \n",
       "min        3.000000      0.000000      0.000000      0.000000      0.000000   \n",
       "25%        6.000000      4.000000      0.000000      0.000000      4.000000   \n",
       "50%        7.000000      6.000000      0.000000      0.000000      6.000000   \n",
       "75%        8.000000      7.000000      1.000000      0.000000      7.000000   \n",
       "max       16.000000     13.000000     12.000000      8.000000     13.000000   \n",
       "\n",
       "        num_special    num_vowels  num_syllables  \n",
       "count  10000.000000  10000.000000   10000.000000  \n",
       "mean       0.003400      1.805900       1.606600  \n",
       "std        0.119958      1.242409       0.681383  \n",
       "min        0.000000      0.000000       0.000000  \n",
       "25%        0.000000      1.000000       1.000000  \n",
       "50%        0.000000      2.000000       2.000000  \n",
       "75%        0.000000      3.000000       2.000000  \n",
       "max        6.000000     10.000000       6.000000  "
      ]
     },
     "execution_count": 51,
     "metadata": {},
     "output_type": "execute_result"
    }
   ],
   "source": [
    "df.describe()"
   ]
  },
  {
   "cell_type": "markdown",
   "metadata": {},
   "source": [
    "What do we note below, from the results of the `describe()` function? \n",
    "\n",
    "- There are 10000 datapoints in the dataset\n",
    "- Of the leaked password:\n",
    "    - mean length ~= 6.65\n",
    "    - mean num_chars ~= 5.03\n",
    "    - mean num_digits ~= 1.62\n",
    "    - mean num_upper ~= 0.03\n",
    "    - mean num_lower ~= 5.005\n",
    "    - mean num_special ~= 0.003\n",
    "    - mean num_vowels ~= 1.81\n",
    "    - mean num_syllables ~= 1.61\n",
    "- minimum password length = 3, an maximum password length = 16\n",
    "\n",
    "- On Average there are 5 characters, 2 digits, 3 lowercase, 1 vowel in the leaked password\n",
    "- There are lengthy passwords with upto 16 characters or digits but still got leaked \n"
   ]
  },
  {
   "cell_type": "code",
   "execution_count": null,
   "metadata": {},
   "outputs": [],
   "source": []
  },
  {
   "cell_type": "code",
   "execution_count": null,
   "metadata": {},
   "outputs": [],
   "source": []
  },
  {
   "cell_type": "code",
   "execution_count": 52,
   "metadata": {},
   "outputs": [
    {
     "data": {
      "text/plain": [
       "6     3176\n",
       "8     2971\n",
       "7     1771\n",
       "5      903\n",
       "4      810\n",
       "9      219\n",
       "10      94\n",
       "11      28\n",
       "12      21\n",
       "3        3\n",
       "13       2\n",
       "15       1\n",
       "16       1\n",
       "Name: length, dtype: int64"
      ]
     },
     "execution_count": 52,
     "metadata": {},
     "output_type": "execute_result"
    }
   ],
   "source": [
    "df.length.value_counts()"
   ]
  },
  {
   "cell_type": "code",
   "execution_count": 53,
   "metadata": {},
   "outputs": [
    {
     "data": {
      "image/png": "[encoded data removed]",
      "text/plain": [
       "<Figure size 720x288 with 1 Axes>"
      ]
     },
     "metadata": {
      "needs_background": "light"
     },
     "output_type": "display_data"
    }
   ],
   "source": [
    "ind_ = df.length.value_counts().values\n",
    "val_ = df.length.value_counts().index\n",
    "\n",
    "plt.figure( figsize=(10, 4) )\n",
    "sns.barplot(x = val_, y = ind_)\n",
    "plt.xlabel(\"Length of Passwords\")\n",
    "plt.ylabel(\"Count\")\n",
    "plt.title(\"Analysing Length of Passwords\")\n",
    "plt.show()"
   ]
  },
  {
   "cell_type": "markdown",
   "metadata": {},
   "source": [
    "Majority of the password are of length 6 or 8.\n",
    "\n",
    "There are passwords that are even of length 3 and large as 13/15/16"
   ]
  },
  {
   "cell_type": "code",
   "execution_count": null,
   "metadata": {},
   "outputs": [],
   "source": []
  },
  {
   "cell_type": "code",
   "execution_count": 54,
   "metadata": {},
   "outputs": [
    {
     "data": {
      "text/html": [
       "<div>\n",
       "<style scoped>\n",
       "    .dataframe tbody tr th:only-of-type {\n",
       "        vertical-align: middle;\n",
       "    }\n",
       "\n",
       "    .dataframe tbody tr th {\n",
       "        vertical-align: top;\n",
       "    }\n",
       "\n",
       "    .dataframe thead th {\n",
       "        text-align: right;\n",
       "    }\n",
       "</style>\n",
       "<table border=\"1\" class=\"dataframe\">\n",
       "  <thead>\n",
       "    <tr style=\"text-align: right;\">\n",
       "      <th></th>\n",
       "      <th>password</th>\n",
       "      <th>length</th>\n",
       "    </tr>\n",
       "  </thead>\n",
       "  <tbody>\n",
       "    <tr>\n",
       "      <th>4761</th>\n",
       "      <td>PolniyPizdec0211</td>\n",
       "      <td>16</td>\n",
       "    </tr>\n",
       "    <tr>\n",
       "      <th>2201</th>\n",
       "      <td>Mailcreated5240</td>\n",
       "      <td>15</td>\n",
       "    </tr>\n",
       "    <tr>\n",
       "      <th>3338</th>\n",
       "      <td>Sojdlg123aljg</td>\n",
       "      <td>13</td>\n",
       "    </tr>\n",
       "    <tr>\n",
       "      <th>11</th>\n",
       "      <td>wrongpassword</td>\n",
       "      <td>13</td>\n",
       "    </tr>\n",
       "    <tr>\n",
       "      <th>2609</th>\n",
       "      <td>123456qwerty</td>\n",
       "      <td>12</td>\n",
       "    </tr>\n",
       "    <tr>\n",
       "      <th>8968</th>\n",
       "      <td>123456789qwe</td>\n",
       "      <td>12</td>\n",
       "    </tr>\n",
       "    <tr>\n",
       "      <th>9364</th>\n",
       "      <td>masterbating</td>\n",
       "      <td>12</td>\n",
       "    </tr>\n",
       "    <tr>\n",
       "      <th>1239</th>\n",
       "      <td>123qweasdzxc</td>\n",
       "      <td>12</td>\n",
       "    </tr>\n",
       "    <tr>\n",
       "      <th>1664</th>\n",
       "      <td>q1w2e3r4t5y6</td>\n",
       "      <td>12</td>\n",
       "    </tr>\n",
       "    <tr>\n",
       "      <th>6511</th>\n",
       "      <td>ghjcnjgfhjkm</td>\n",
       "      <td>12</td>\n",
       "    </tr>\n",
       "  </tbody>\n",
       "</table>\n",
       "</div>"
      ],
      "text/plain": [
       "              password  length\n",
       "4761  PolniyPizdec0211      16\n",
       "2201   Mailcreated5240      15\n",
       "3338     Sojdlg123aljg      13\n",
       "11       wrongpassword      13\n",
       "2609      123456qwerty      12\n",
       "8968      123456789qwe      12\n",
       "9364      masterbating      12\n",
       "1239      123qweasdzxc      12\n",
       "1664      q1w2e3r4t5y6      12\n",
       "6511      ghjcnjgfhjkm      12"
      ]
     },
     "execution_count": 54,
     "metadata": {},
     "output_type": "execute_result"
    }
   ],
   "source": [
    "# Here, we can see the top 10 longest passwords:\n",
    "\n",
    "df.sort_values(by='length', ascending=False)[['password', 'length']].head(10)"
   ]
  },
  {
   "cell_type": "code",
   "execution_count": null,
   "metadata": {},
   "outputs": [],
   "source": []
  },
  {
   "cell_type": "code",
   "execution_count": 55,
   "metadata": {},
   "outputs": [
    {
     "data": {
      "text/html": [
       "<div>\n",
       "<style scoped>\n",
       "    .dataframe tbody tr th:only-of-type {\n",
       "        vertical-align: middle;\n",
       "    }\n",
       "\n",
       "    .dataframe tbody tr th {\n",
       "        vertical-align: top;\n",
       "    }\n",
       "\n",
       "    .dataframe thead th {\n",
       "        text-align: right;\n",
       "    }\n",
       "</style>\n",
       "<table border=\"1\" class=\"dataframe\">\n",
       "  <thead>\n",
       "    <tr style=\"text-align: right;\">\n",
       "      <th></th>\n",
       "      <th>password</th>\n",
       "      <th>length</th>\n",
       "    </tr>\n",
       "  </thead>\n",
       "  <tbody>\n",
       "    <tr>\n",
       "      <th>4349</th>\n",
       "      <td>sex</td>\n",
       "      <td>3</td>\n",
       "    </tr>\n",
       "    <tr>\n",
       "      <th>8186</th>\n",
       "      <td>mad</td>\n",
       "      <td>3</td>\n",
       "    </tr>\n",
       "    <tr>\n",
       "      <th>1591</th>\n",
       "      <td>123</td>\n",
       "      <td>3</td>\n",
       "    </tr>\n",
       "    <tr>\n",
       "      <th>5214</th>\n",
       "      <td>shao</td>\n",
       "      <td>4</td>\n",
       "    </tr>\n",
       "    <tr>\n",
       "      <th>718</th>\n",
       "      <td>1980</td>\n",
       "      <td>4</td>\n",
       "    </tr>\n",
       "    <tr>\n",
       "      <th>8025</th>\n",
       "      <td>hung</td>\n",
       "      <td>4</td>\n",
       "    </tr>\n",
       "    <tr>\n",
       "      <th>6134</th>\n",
       "      <td>beta</td>\n",
       "      <td>4</td>\n",
       "    </tr>\n",
       "    <tr>\n",
       "      <th>8020</th>\n",
       "      <td>junk</td>\n",
       "      <td>4</td>\n",
       "    </tr>\n",
       "    <tr>\n",
       "      <th>4760</th>\n",
       "      <td>qiao</td>\n",
       "      <td>4</td>\n",
       "    </tr>\n",
       "    <tr>\n",
       "      <th>6146</th>\n",
       "      <td>1949</td>\n",
       "      <td>4</td>\n",
       "    </tr>\n",
       "  </tbody>\n",
       "</table>\n",
       "</div>"
      ],
      "text/plain": [
       "     password  length\n",
       "4349      sex       3\n",
       "8186      mad       3\n",
       "1591      123       3\n",
       "5214     shao       4\n",
       "718      1980       4\n",
       "8025     hung       4\n",
       "6134     beta       4\n",
       "8020     junk       4\n",
       "4760     qiao       4\n",
       "6146     1949       4"
      ]
     },
     "execution_count": 55,
     "metadata": {},
     "output_type": "execute_result"
    }
   ],
   "source": [
    "# Let's look at the top 10 shortest passwords:\n",
    "\n",
    "df.sort_values(by='length', ascending=True)[['password', 'length']].head(10)"
   ]
  },
  {
   "cell_type": "code",
   "execution_count": null,
   "metadata": {},
   "outputs": [],
   "source": []
  },
  {
   "cell_type": "code",
   "execution_count": 56,
   "metadata": {},
   "outputs": [
    {
     "data": {
      "text/html": [
       "<div>\n",
       "<style scoped>\n",
       "    .dataframe tbody tr th:only-of-type {\n",
       "        vertical-align: middle;\n",
       "    }\n",
       "\n",
       "    .dataframe tbody tr th {\n",
       "        vertical-align: top;\n",
       "    }\n",
       "\n",
       "    .dataframe thead th {\n",
       "        text-align: right;\n",
       "    }\n",
       "</style>\n",
       "<table border=\"1\" class=\"dataframe\">\n",
       "  <thead>\n",
       "    <tr style=\"text-align: right;\">\n",
       "      <th></th>\n",
       "      <th>password</th>\n",
       "      <th>num_syllables</th>\n",
       "    </tr>\n",
       "  </thead>\n",
       "  <tbody>\n",
       "    <tr>\n",
       "      <th>6047</th>\n",
       "      <td>cccccccc</td>\n",
       "      <td>6</td>\n",
       "    </tr>\n",
       "    <tr>\n",
       "      <th>5303</th>\n",
       "      <td>llllllll</td>\n",
       "      <td>6</td>\n",
       "    </tr>\n",
       "    <tr>\n",
       "      <th>3973</th>\n",
       "      <td>mmmmmmmm</td>\n",
       "      <td>6</td>\n",
       "    </tr>\n",
       "    <tr>\n",
       "      <th>5678</th>\n",
       "      <td>hhhhhhhh</td>\n",
       "      <td>6</td>\n",
       "    </tr>\n",
       "    <tr>\n",
       "      <th>7058</th>\n",
       "      <td>mmmmmmm</td>\n",
       "      <td>5</td>\n",
       "    </tr>\n",
       "    <tr>\n",
       "      <th>3746</th>\n",
       "      <td>fktrcfylhf</td>\n",
       "      <td>5</td>\n",
       "    </tr>\n",
       "    <tr>\n",
       "      <th>8152</th>\n",
       "      <td>sonyericsson</td>\n",
       "      <td>5</td>\n",
       "    </tr>\n",
       "    <tr>\n",
       "      <th>9911</th>\n",
       "      <td>qwerasdfzxcv</td>\n",
       "      <td>5</td>\n",
       "    </tr>\n",
       "    <tr>\n",
       "      <th>4652</th>\n",
       "      <td>rjycnfynby</td>\n",
       "      <td>5</td>\n",
       "    </tr>\n",
       "    <tr>\n",
       "      <th>4297</th>\n",
       "      <td>qwertyqwerty</td>\n",
       "      <td>5</td>\n",
       "    </tr>\n",
       "  </tbody>\n",
       "</table>\n",
       "</div>"
      ],
      "text/plain": [
       "          password  num_syllables\n",
       "6047      cccccccc              6\n",
       "5303      llllllll              6\n",
       "3973      mmmmmmmm              6\n",
       "5678      hhhhhhhh              6\n",
       "7058       mmmmmmm              5\n",
       "3746    fktrcfylhf              5\n",
       "8152  sonyericsson              5\n",
       "9911  qwerasdfzxcv              5\n",
       "4652    rjycnfynby              5\n",
       "4297  qwertyqwerty              5"
      ]
     },
     "execution_count": 56,
     "metadata": {},
     "output_type": "execute_result"
    }
   ],
   "source": [
    "# Let's look at the top 10 passwords with the most syllables (as defined by this dataset):\n",
    "\n",
    "df.sort_values(by='num_syllables', ascending=False)[['password', 'num_syllables']].head(10)"
   ]
  },
  {
   "cell_type": "code",
   "execution_count": null,
   "metadata": {},
   "outputs": [],
   "source": []
  },
  {
   "cell_type": "code",
   "execution_count": 79,
   "metadata": {},
   "outputs": [
    {
     "data": {
      "text/plain": [
       "<matplotlib.axes._subplots.AxesSubplot at 0x28290270670>"
      ]
     },
     "execution_count": 79,
     "metadata": {},
     "output_type": "execute_result"
    },
    {
     "data": {
      "image/png": "[encoded data removed]",
      "text/plain": [
       "<Figure size 576x576 with 2 Axes>"
      ]
     },
     "metadata": {
      "needs_background": "light"
     },
     "output_type": "display_data"
    }
   ],
   "source": [
    "plt.figure(figsize=(8,8))\n",
    "sns.heatmap(df.corr(), annot=True, cmap='Purples')"
   ]
  },
  {
   "cell_type": "markdown",
   "metadata": {},
   "source": [
    "#### We observe **high positive correlations** between:  \n",
    "    - num_chars and num_lower (positive correlation)  \n",
    "    - num_vowels and num_lower (positive correlation)  \n",
    "    - num_vowels and num_chars (positive correlation)  \n",
    "\n",
    "#### We also observation **high negative correlations** between:  \n",
    "    - num_lower and num_digits (negative correlation)  \n",
    "    - num_vowels and num_digits (negative correlation)  \n",
    "    - num_chars and num_digits (negative correlation)  "
   ]
  },
  {
   "cell_type": "code",
   "execution_count": null,
   "metadata": {},
   "outputs": [],
   "source": []
  },
  {
   "cell_type": "code",
   "execution_count": 58,
   "metadata": {},
   "outputs": [
    {
     "name": "stdout",
     "output_type": "stream",
     "text": [
      "Percentage of Secured Password : 33.37%\n",
      "Percentage of Insecured Password : 66.63%\n"
     ]
    }
   ],
   "source": [
    "# Most Secure password is considered at least 8 characters long.\n",
    "\n",
    "\n",
    "secure_passwords = df[df['length'] >=8]\n",
    "# print(secure_passwords.shape)\n",
    "print( f\"Percentage of Secured Password : {secure_passwords.shape[0] / df['length'].count() * 100}%\"  )\n",
    "\n",
    "insecure_passwords = df[df['length'] <8]\n",
    "# print(insecure_passwords.shape)\n",
    "print( f\"Percentage of Insecured Password : {insecure_passwords.shape[0] / df['length'].count() * 100}%\"  )\n"
   ]
  },
  {
   "cell_type": "markdown",
   "metadata": {},
   "source": [
    "As we can see, more than 66% of the most popular passwords are not long enough. Now let's check those with symbols, numbers and capital letters."
   ]
  },
  {
   "cell_type": "code",
   "execution_count": 59,
   "metadata": {},
   "outputs": [
    {
     "data": {
      "text/plain": [
       "(24, 9)"
      ]
     },
     "execution_count": 59,
     "metadata": {},
     "output_type": "execute_result"
    }
   ],
   "source": [
    "secure_passwords = secure_passwords[(secure_passwords['num_chars'] > 0) & (secure_passwords['num_digits']>0)\n",
    "                                    & (secure_passwords['num_upper'] > 0) & (secure_passwords['num_lower']>0)]\n",
    "secure_passwords.shape"
   ]
  },
  {
   "cell_type": "code",
   "execution_count": 60,
   "metadata": {},
   "outputs": [
    {
     "name": "stdout",
     "output_type": "stream",
     "text": [
      "710          Usuckballz1\n",
      "1215         Soso123aljg\n",
      "2201     Mailcreated5240\n",
      "2664            Passw0rd\n",
      "2697            8J4yE3Uz\n",
      "3067           Password1\n",
      "3162            Turkey50\n",
      "3328            1Passwor\n",
      "3338       Sojdlg123aljg\n",
      "3919            Passwor1\n",
      "4761    PolniyPizdec0211\n",
      "4861          7uGd5HIp2J\n",
      "5202          vSjasnel12\n",
      "6011            Michael1\n",
      "6026          Good123654\n",
      "6939            Kordell1\n",
      "7341            Misfit99\n",
      "7348            Letmein1\n",
      "7501         Password123\n",
      "7783            Trustno1\n",
      "7971            Welcome1\n",
      "8669            5Wr2i7H8\n",
      "8851            Jordan23\n",
      "9358            Mustang1\n",
      "Name: password, dtype: object\n"
     ]
    }
   ],
   "source": [
    "print( secure_passwords.password )"
   ]
  },
  {
   "cell_type": "markdown",
   "metadata": {},
   "source": [
    "As we can see in the DataFrame above, only 0.24% of the most popular password would be secure before checking criteria number 3, which is not using obvious words. We can see that among those passwords, some of them are popular words with added just one integer ( most with \"1\" at the end, and \"Passw0rd\" being obvious one to drop, since it is easy to hack). Let's clear these."
   ]
  },
  {
   "cell_type": "code",
   "execution_count": 61,
   "metadata": {},
   "outputs": [
    {
     "data": {
      "text/html": [
       "<div>\n",
       "<style scoped>\n",
       "    .dataframe tbody tr th:only-of-type {\n",
       "        vertical-align: middle;\n",
       "    }\n",
       "\n",
       "    .dataframe tbody tr th {\n",
       "        vertical-align: top;\n",
       "    }\n",
       "\n",
       "    .dataframe thead th {\n",
       "        text-align: right;\n",
       "    }\n",
       "</style>\n",
       "<table border=\"1\" class=\"dataframe\">\n",
       "  <thead>\n",
       "    <tr style=\"text-align: right;\">\n",
       "      <th></th>\n",
       "      <th>password</th>\n",
       "      <th>length</th>\n",
       "      <th>num_chars</th>\n",
       "      <th>num_digits</th>\n",
       "      <th>num_upper</th>\n",
       "      <th>num_lower</th>\n",
       "      <th>num_special</th>\n",
       "      <th>num_vowels</th>\n",
       "      <th>num_syllables</th>\n",
       "    </tr>\n",
       "  </thead>\n",
       "  <tbody>\n",
       "    <tr>\n",
       "      <th>1215</th>\n",
       "      <td>Soso123aljg</td>\n",
       "      <td>11</td>\n",
       "      <td>8</td>\n",
       "      <td>3</td>\n",
       "      <td>1</td>\n",
       "      <td>7</td>\n",
       "      <td>0</td>\n",
       "      <td>3</td>\n",
       "      <td>1</td>\n",
       "    </tr>\n",
       "    <tr>\n",
       "      <th>2201</th>\n",
       "      <td>Mailcreated5240</td>\n",
       "      <td>15</td>\n",
       "      <td>11</td>\n",
       "      <td>4</td>\n",
       "      <td>1</td>\n",
       "      <td>10</td>\n",
       "      <td>0</td>\n",
       "      <td>5</td>\n",
       "      <td>4</td>\n",
       "    </tr>\n",
       "    <tr>\n",
       "      <th>2697</th>\n",
       "      <td>8J4yE3Uz</td>\n",
       "      <td>8</td>\n",
       "      <td>5</td>\n",
       "      <td>3</td>\n",
       "      <td>3</td>\n",
       "      <td>2</td>\n",
       "      <td>0</td>\n",
       "      <td>0</td>\n",
       "      <td>1</td>\n",
       "    </tr>\n",
       "    <tr>\n",
       "      <th>3162</th>\n",
       "      <td>Turkey50</td>\n",
       "      <td>8</td>\n",
       "      <td>6</td>\n",
       "      <td>2</td>\n",
       "      <td>1</td>\n",
       "      <td>5</td>\n",
       "      <td>0</td>\n",
       "      <td>2</td>\n",
       "      <td>1</td>\n",
       "    </tr>\n",
       "    <tr>\n",
       "      <th>3338</th>\n",
       "      <td>Sojdlg123aljg</td>\n",
       "      <td>13</td>\n",
       "      <td>10</td>\n",
       "      <td>3</td>\n",
       "      <td>1</td>\n",
       "      <td>9</td>\n",
       "      <td>0</td>\n",
       "      <td>2</td>\n",
       "      <td>3</td>\n",
       "    </tr>\n",
       "    <tr>\n",
       "      <th>4761</th>\n",
       "      <td>PolniyPizdec0211</td>\n",
       "      <td>16</td>\n",
       "      <td>12</td>\n",
       "      <td>4</td>\n",
       "      <td>2</td>\n",
       "      <td>10</td>\n",
       "      <td>0</td>\n",
       "      <td>4</td>\n",
       "      <td>3</td>\n",
       "    </tr>\n",
       "    <tr>\n",
       "      <th>4861</th>\n",
       "      <td>7uGd5HIp2J</td>\n",
       "      <td>10</td>\n",
       "      <td>7</td>\n",
       "      <td>3</td>\n",
       "      <td>4</td>\n",
       "      <td>3</td>\n",
       "      <td>0</td>\n",
       "      <td>1</td>\n",
       "      <td>1</td>\n",
       "    </tr>\n",
       "    <tr>\n",
       "      <th>5202</th>\n",
       "      <td>vSjasnel12</td>\n",
       "      <td>10</td>\n",
       "      <td>8</td>\n",
       "      <td>2</td>\n",
       "      <td>1</td>\n",
       "      <td>7</td>\n",
       "      <td>0</td>\n",
       "      <td>2</td>\n",
       "      <td>3</td>\n",
       "    </tr>\n",
       "    <tr>\n",
       "      <th>6026</th>\n",
       "      <td>Good123654</td>\n",
       "      <td>10</td>\n",
       "      <td>4</td>\n",
       "      <td>6</td>\n",
       "      <td>1</td>\n",
       "      <td>3</td>\n",
       "      <td>0</td>\n",
       "      <td>2</td>\n",
       "      <td>1</td>\n",
       "    </tr>\n",
       "    <tr>\n",
       "      <th>7341</th>\n",
       "      <td>Misfit99</td>\n",
       "      <td>8</td>\n",
       "      <td>6</td>\n",
       "      <td>2</td>\n",
       "      <td>1</td>\n",
       "      <td>5</td>\n",
       "      <td>0</td>\n",
       "      <td>2</td>\n",
       "      <td>2</td>\n",
       "    </tr>\n",
       "    <tr>\n",
       "      <th>7501</th>\n",
       "      <td>Password123</td>\n",
       "      <td>11</td>\n",
       "      <td>8</td>\n",
       "      <td>3</td>\n",
       "      <td>1</td>\n",
       "      <td>7</td>\n",
       "      <td>0</td>\n",
       "      <td>2</td>\n",
       "      <td>2</td>\n",
       "    </tr>\n",
       "    <tr>\n",
       "      <th>8669</th>\n",
       "      <td>5Wr2i7H8</td>\n",
       "      <td>8</td>\n",
       "      <td>4</td>\n",
       "      <td>4</td>\n",
       "      <td>2</td>\n",
       "      <td>2</td>\n",
       "      <td>0</td>\n",
       "      <td>1</td>\n",
       "      <td>1</td>\n",
       "    </tr>\n",
       "    <tr>\n",
       "      <th>8851</th>\n",
       "      <td>Jordan23</td>\n",
       "      <td>8</td>\n",
       "      <td>6</td>\n",
       "      <td>2</td>\n",
       "      <td>1</td>\n",
       "      <td>5</td>\n",
       "      <td>0</td>\n",
       "      <td>2</td>\n",
       "      <td>2</td>\n",
       "    </tr>\n",
       "  </tbody>\n",
       "</table>\n",
       "</div>"
      ],
      "text/plain": [
       "              password  length  num_chars  num_digits  num_upper  num_lower  \\\n",
       "1215       Soso123aljg      11          8           3          1          7   \n",
       "2201   Mailcreated5240      15         11           4          1         10   \n",
       "2697          8J4yE3Uz       8          5           3          3          2   \n",
       "3162          Turkey50       8          6           2          1          5   \n",
       "3338     Sojdlg123aljg      13         10           3          1          9   \n",
       "4761  PolniyPizdec0211      16         12           4          2         10   \n",
       "4861        7uGd5HIp2J      10          7           3          4          3   \n",
       "5202        vSjasnel12      10          8           2          1          7   \n",
       "6026        Good123654      10          4           6          1          3   \n",
       "7341          Misfit99       8          6           2          1          5   \n",
       "7501       Password123      11          8           3          1          7   \n",
       "8669          5Wr2i7H8       8          4           4          2          2   \n",
       "8851          Jordan23       8          6           2          1          5   \n",
       "\n",
       "      num_special  num_vowels  num_syllables  \n",
       "1215            0           3              1  \n",
       "2201            0           5              4  \n",
       "2697            0           0              1  \n",
       "3162            0           2              1  \n",
       "3338            0           2              3  \n",
       "4761            0           4              3  \n",
       "4861            0           1              1  \n",
       "5202            0           2              3  \n",
       "6026            0           2              1  \n",
       "7341            0           2              2  \n",
       "7501            0           2              2  \n",
       "8669            0           1              1  \n",
       "8851            0           2              2  "
      ]
     },
     "execution_count": 61,
     "metadata": {},
     "output_type": "execute_result"
    }
   ],
   "source": [
    "secure_passwords = secure_passwords[secure_passwords['num_digits'] > 1]\n",
    "secure_passwords"
   ]
  },
  {
   "cell_type": "code",
   "execution_count": 62,
   "metadata": {},
   "outputs": [
    {
     "name": "stdout",
     "output_type": "stream",
     "text": [
      "The number of secure passwords out of 10000 most popular is 13\n"
     ]
    }
   ],
   "source": [
    "\n",
    "print(f\"The number of secure passwords out of 10000 most popular is {len(secure_passwords)}\")"
   ]
  },
  {
   "cell_type": "code",
   "execution_count": 63,
   "metadata": {},
   "outputs": [
    {
     "data": {
      "image/png": "[encoded data removed]",
      "text/plain": [
       "<Figure size 1080x576 with 1 Axes>"
      ]
     },
     "metadata": {
      "needs_background": "light"
     },
     "output_type": "display_data"
    }
   ],
   "source": [
    "# So, out of 10 000 most popular passwords, only 0.13% would be considered secure. \n",
    "# This easily explaines why most people's accounts are easily hacked.\n",
    "# Now let's check the distribution of password length.\n",
    "\n",
    "plt.figure(figsize=(15,8))\n",
    "\n",
    "#Computing ECDF for password length\n",
    "#n - number of data points\n",
    "n = len(df['length'])\n",
    "#x - x-data for ECDF\n",
    "x = np.sort(df['length'])\n",
    "#y - y-data for ECDF\n",
    "y = np.arange(1, n+1) / n\n",
    "#Generate ECDF plot\n",
    "plt.scatter(x,y, c = \"y\")\n",
    "plt.xlabel('Password length')\n",
    "plt.ylabel('ECDF')\n",
    "plt.show()\n"
   ]
  },
  {
   "cell_type": "code",
   "execution_count": 71,
   "metadata": {},
   "outputs": [],
   "source": [
    "# Function to check the strength of the password input by the user based on the following features.\n",
    "#     Length minimum of 8 characters  (+4 Strength)\n",
    "#     Use of upper case characters (+1 Strength) \n",
    "#     Use of lower case characters (+1 Strength)\n",
    "#     Use of digits (+1 Strength)\n",
    "#     Use of Special Characters (+3 Strength)\n",
    "#     Use of Spaces  (Invalid Password)\n",
    "\n",
    "\n",
    "def passwordCheck(userPass) : \n",
    "    import string\n",
    "    finalstrength = 0\n",
    "\n",
    "    if any(chr.isspace() for chr in userPass) : \n",
    "    #     print(\"Password not Valid. It contains Blank letter.\")\n",
    "        return \"Not Valid\"\n",
    "    else : \n",
    "        if len(userPass)>=8:    finalstrength += 4\n",
    "        if any(chr.isupper() for chr in userPass):    finalstrength += 1\n",
    "        if any(chr.islower() for chr in userPass):    finalstrength += 1\n",
    "        if any(chr.isnumeric() for chr in userPass):    finalstrength += 1\n",
    "        if any(chr for chr in userPass if chr in string.punctuation):    finalstrength += 3\n",
    "    #     print(\"finalstrength = \", finalstrength)\n",
    "\n",
    "        if finalstrength >= 7 :\n",
    "            return \"Excellent\"\n",
    "        elif finalstrength < 7 and finalstrength >= 5:\n",
    "            return \"Average\"\n",
    "        else : \n",
    "            return \"Poor\"\n"
   ]
  },
  {
   "cell_type": "code",
   "execution_count": 74,
   "metadata": {},
   "outputs": [],
   "source": [
    "df['Remarks'] = df['password'].apply( passwordCheck )"
   ]
  },
  {
   "cell_type": "code",
   "execution_count": 75,
   "metadata": {},
   "outputs": [
    {
     "data": {
      "text/html": [
       "<div>\n",
       "<style scoped>\n",
       "    .dataframe tbody tr th:only-of-type {\n",
       "        vertical-align: middle;\n",
       "    }\n",
       "\n",
       "    .dataframe tbody tr th {\n",
       "        vertical-align: top;\n",
       "    }\n",
       "\n",
       "    .dataframe thead th {\n",
       "        text-align: right;\n",
       "    }\n",
       "</style>\n",
       "<table border=\"1\" class=\"dataframe\">\n",
       "  <thead>\n",
       "    <tr style=\"text-align: right;\">\n",
       "      <th></th>\n",
       "      <th>password</th>\n",
       "      <th>length</th>\n",
       "      <th>num_chars</th>\n",
       "      <th>num_digits</th>\n",
       "      <th>num_upper</th>\n",
       "      <th>num_lower</th>\n",
       "      <th>num_special</th>\n",
       "      <th>num_vowels</th>\n",
       "      <th>num_syllables</th>\n",
       "      <th>Remarks</th>\n",
       "    </tr>\n",
       "  </thead>\n",
       "  <tbody>\n",
       "    <tr>\n",
       "      <th>0</th>\n",
       "      <td>123456</td>\n",
       "      <td>6</td>\n",
       "      <td>0</td>\n",
       "      <td>6</td>\n",
       "      <td>0</td>\n",
       "      <td>0</td>\n",
       "      <td>0</td>\n",
       "      <td>0</td>\n",
       "      <td>1</td>\n",
       "      <td>Poor</td>\n",
       "    </tr>\n",
       "    <tr>\n",
       "      <th>1</th>\n",
       "      <td>password</td>\n",
       "      <td>8</td>\n",
       "      <td>8</td>\n",
       "      <td>0</td>\n",
       "      <td>0</td>\n",
       "      <td>8</td>\n",
       "      <td>0</td>\n",
       "      <td>2</td>\n",
       "      <td>2</td>\n",
       "      <td>Average</td>\n",
       "    </tr>\n",
       "    <tr>\n",
       "      <th>2</th>\n",
       "      <td>12345678</td>\n",
       "      <td>8</td>\n",
       "      <td>0</td>\n",
       "      <td>8</td>\n",
       "      <td>0</td>\n",
       "      <td>0</td>\n",
       "      <td>0</td>\n",
       "      <td>0</td>\n",
       "      <td>1</td>\n",
       "      <td>Average</td>\n",
       "    </tr>\n",
       "    <tr>\n",
       "      <th>3</th>\n",
       "      <td>qwerty</td>\n",
       "      <td>6</td>\n",
       "      <td>6</td>\n",
       "      <td>0</td>\n",
       "      <td>0</td>\n",
       "      <td>6</td>\n",
       "      <td>0</td>\n",
       "      <td>1</td>\n",
       "      <td>3</td>\n",
       "      <td>Poor</td>\n",
       "    </tr>\n",
       "    <tr>\n",
       "      <th>4</th>\n",
       "      <td>123456789</td>\n",
       "      <td>9</td>\n",
       "      <td>0</td>\n",
       "      <td>9</td>\n",
       "      <td>0</td>\n",
       "      <td>0</td>\n",
       "      <td>0</td>\n",
       "      <td>0</td>\n",
       "      <td>1</td>\n",
       "      <td>Average</td>\n",
       "    </tr>\n",
       "  </tbody>\n",
       "</table>\n",
       "</div>"
      ],
      "text/plain": [
       "    password  length  num_chars  num_digits  num_upper  num_lower  \\\n",
       "0     123456       6          0           6          0          0   \n",
       "1   password       8          8           0          0          8   \n",
       "2   12345678       8          0           8          0          0   \n",
       "3     qwerty       6          6           0          0          6   \n",
       "4  123456789       9          0           9          0          0   \n",
       "\n",
       "   num_special  num_vowels  num_syllables  Remarks  \n",
       "0            0           0              1     Poor  \n",
       "1            0           2              2  Average  \n",
       "2            0           0              1  Average  \n",
       "3            0           1              3     Poor  \n",
       "4            0           0              1  Average  "
      ]
     },
     "execution_count": 75,
     "metadata": {},
     "output_type": "execute_result"
    }
   ],
   "source": [
    "df.head()"
   ]
  },
  {
   "cell_type": "code",
   "execution_count": 78,
   "metadata": {},
   "outputs": [
    {
     "data": {
      "text/plain": [
       "Poor         6663\n",
       "Average      3309\n",
       "Excellent      28\n",
       "Name: Remarks, dtype: int64"
      ]
     },
     "execution_count": 78,
     "metadata": {},
     "output_type": "execute_result"
    }
   ],
   "source": [
    "df.Remarks.value_counts()"
   ]
  },
  {
   "cell_type": "code",
   "execution_count": null,
   "metadata": {},
   "outputs": [],
   "source": []
  },
  {
   "cell_type": "markdown",
   "metadata": {},
   "source": [
    "As shown above, more than 95% of these passwords are shorter than 9 characters.<br>\n",
    "Conclusion:\n",
    "Almost all of the most popular passwords are not secure. As long as people keep using easy to break passwords, they will be exposed to being hacked. "
   ]
  },
  {
   "cell_type": "code",
   "execution_count": null,
   "metadata": {},
   "outputs": [],
   "source": []
  },
  {
   "cell_type": "code",
   "execution_count": null,
   "metadata": {},
   "outputs": [],
   "source": []
  },
  {
   "cell_type": "code",
   "execution_count": null,
   "metadata": {},
   "outputs": [],
   "source": []
  },
  {
   "cell_type": "code",
   "execution_count": null,
   "metadata": {},
   "outputs": [],
   "source": []
  },
  {
   "cell_type": "code",
   "execution_count": null,
   "metadata": {},
   "outputs": [],
   "source": []
  }
 ],
 "metadata": {
  "kernelspec": {
   "display_name": "Python 3",
   "language": "python",
   "name": "python3"
  },
  "language_info": {
   "codemirror_mode": {
    "name": "ipython",
    "version": 3
   },
   "file_extension": ".py",
   "mimetype": "text/x-python",
   "name": "python",
   "nbconvert_exporter": "python",
   "pygments_lexer": "ipython3",
   "version": "3.8.3"
  }
 },
 "nbformat": 4,
 "nbformat_minor": 4
}
